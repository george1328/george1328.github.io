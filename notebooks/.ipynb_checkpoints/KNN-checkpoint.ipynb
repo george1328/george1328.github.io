{
 "metadata": {
  "name": "",
  "signature": "sha256:337ba8f16ccee712199b0eda9f3c207a72eb8c2b03015bcb0daf1bcd6c51016f"
 },
 "nbformat": 3,
 "nbformat_minor": 0,
 "worksheets": [
  {
   "cells": [
    {
     "cell_type": "markdown",
     "metadata": {},
     "source": [
      "Website in progress. Place Holder"
     ]
    },
    {
     "cell_type": "code",
     "collapsed": false,
     "input": [],
     "language": "python",
     "metadata": {},
     "outputs": []
    }
   ],
   "metadata": {}
  }
 ]
}