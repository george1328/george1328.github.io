{
 "metadata": {
  "name": "",
  "signature": "sha256:205f4ba6e5adeded851490a8ea0351e5b42092b4723667aed58969d720784e71"
 },
 "nbformat": 3,
 "nbformat_minor": 0,
 "worksheets": [
  {
   "cells": [
    {
     "cell_type": "heading",
     "level": 3,
     "metadata": {},
     "source": [
      "Logistic regression using the Titanic dataset on Kaggle."
     ]
    },
    {
     "cell_type": "markdown",
     "metadata": {},
     "source": [
      "Lecture notes on logistic regression:  http://george1328.github.io/lecture_notes/Logistic_Regression.pdf"
     ]
    },
    {
     "cell_type": "code",
     "collapsed": false,
     "input": [
      "import pandas as pd\n",
      "from sklearn.linear_model import LogisticRegression\n",
      "import seaborn as sns\n",
      "%pylab inline"
     ],
     "language": "python",
     "metadata": {},
     "outputs": [
      {
       "output_type": "stream",
       "stream": "stdout",
       "text": [
        "Populating the interactive namespace from numpy and matplotlib\n"
       ]
      }
     ],
     "prompt_number": 56
    },
    {
     "cell_type": "code",
     "collapsed": false,
     "input": [
      "df = pd.read_csv('train.csv', header = 0)"
     ],
     "language": "python",
     "metadata": {},
     "outputs": [],
     "prompt_number": 57
    },
    {
     "cell_type": "code",
     "collapsed": false,
     "input": [
      "df.describe()"
     ],
     "language": "python",
     "metadata": {},
     "outputs": [
      {
       "html": [
        "<div style=\"max-height:1000px;max-width:1500px;overflow:auto;\">\n",
        "<table border=\"1\" class=\"dataframe\">\n",
        "  <thead>\n",
        "    <tr style=\"text-align: right;\">\n",
        "      <th></th>\n",
        "      <th>PassengerId</th>\n",
        "      <th>Survived</th>\n",
        "      <th>Pclass</th>\n",
        "      <th>Age</th>\n",
        "      <th>SibSp</th>\n",
        "      <th>Parch</th>\n",
        "      <th>Fare</th>\n",
        "    </tr>\n",
        "  </thead>\n",
        "  <tbody>\n",
        "    <tr>\n",
        "      <th>count</th>\n",
        "      <td> 891.000000</td>\n",
        "      <td> 891.000000</td>\n",
        "      <td> 891.000000</td>\n",
        "      <td> 714.000000</td>\n",
        "      <td> 891.000000</td>\n",
        "      <td> 891.000000</td>\n",
        "      <td> 891.000000</td>\n",
        "    </tr>\n",
        "    <tr>\n",
        "      <th>mean</th>\n",
        "      <td> 446.000000</td>\n",
        "      <td>   0.383838</td>\n",
        "      <td>   2.308642</td>\n",
        "      <td>  29.699118</td>\n",
        "      <td>   0.523008</td>\n",
        "      <td>   0.381594</td>\n",
        "      <td>  32.204208</td>\n",
        "    </tr>\n",
        "    <tr>\n",
        "      <th>std</th>\n",
        "      <td> 257.353842</td>\n",
        "      <td>   0.486592</td>\n",
        "      <td>   0.836071</td>\n",
        "      <td>  14.526497</td>\n",
        "      <td>   1.102743</td>\n",
        "      <td>   0.806057</td>\n",
        "      <td>  49.693429</td>\n",
        "    </tr>\n",
        "    <tr>\n",
        "      <th>min</th>\n",
        "      <td>   1.000000</td>\n",
        "      <td>   0.000000</td>\n",
        "      <td>   1.000000</td>\n",
        "      <td>   0.420000</td>\n",
        "      <td>   0.000000</td>\n",
        "      <td>   0.000000</td>\n",
        "      <td>   0.000000</td>\n",
        "    </tr>\n",
        "    <tr>\n",
        "      <th>25%</th>\n",
        "      <td> 223.500000</td>\n",
        "      <td>   0.000000</td>\n",
        "      <td>   2.000000</td>\n",
        "      <td>  20.125000</td>\n",
        "      <td>   0.000000</td>\n",
        "      <td>   0.000000</td>\n",
        "      <td>   7.910400</td>\n",
        "    </tr>\n",
        "    <tr>\n",
        "      <th>50%</th>\n",
        "      <td> 446.000000</td>\n",
        "      <td>   0.000000</td>\n",
        "      <td>   3.000000</td>\n",
        "      <td>  28.000000</td>\n",
        "      <td>   0.000000</td>\n",
        "      <td>   0.000000</td>\n",
        "      <td>  14.454200</td>\n",
        "    </tr>\n",
        "    <tr>\n",
        "      <th>75%</th>\n",
        "      <td> 668.500000</td>\n",
        "      <td>   1.000000</td>\n",
        "      <td>   3.000000</td>\n",
        "      <td>  38.000000</td>\n",
        "      <td>   1.000000</td>\n",
        "      <td>   0.000000</td>\n",
        "      <td>  31.000000</td>\n",
        "    </tr>\n",
        "    <tr>\n",
        "      <th>max</th>\n",
        "      <td> 891.000000</td>\n",
        "      <td>   1.000000</td>\n",
        "      <td>   3.000000</td>\n",
        "      <td>  80.000000</td>\n",
        "      <td>   8.000000</td>\n",
        "      <td>   6.000000</td>\n",
        "      <td> 512.329200</td>\n",
        "    </tr>\n",
        "  </tbody>\n",
        "</table>\n",
        "</div>"
       ],
       "metadata": {},
       "output_type": "pyout",
       "prompt_number": 58,
       "text": [
        "       PassengerId    Survived      Pclass         Age       SibSp  \\\n",
        "count   891.000000  891.000000  891.000000  714.000000  891.000000   \n",
        "mean    446.000000    0.383838    2.308642   29.699118    0.523008   \n",
        "std     257.353842    0.486592    0.836071   14.526497    1.102743   \n",
        "min       1.000000    0.000000    1.000000    0.420000    0.000000   \n",
        "25%     223.500000    0.000000    2.000000   20.125000    0.000000   \n",
        "50%     446.000000    0.000000    3.000000   28.000000    0.000000   \n",
        "75%     668.500000    1.000000    3.000000   38.000000    1.000000   \n",
        "max     891.000000    1.000000    3.000000   80.000000    8.000000   \n",
        "\n",
        "            Parch        Fare  \n",
        "count  891.000000  891.000000  \n",
        "mean     0.381594   32.204208  \n",
        "std      0.806057   49.693429  \n",
        "min      0.000000    0.000000  \n",
        "25%      0.000000    7.910400  \n",
        "50%      0.000000   14.454200  \n",
        "75%      0.000000   31.000000  \n",
        "max      6.000000  512.329200  "
       ]
      }
     ],
     "prompt_number": 58
    },
    {
     "cell_type": "code",
     "collapsed": false,
     "input": [
      "df.info()"
     ],
     "language": "python",
     "metadata": {},
     "outputs": [
      {
       "output_type": "stream",
       "stream": "stdout",
       "text": [
        "<class 'pandas.core.frame.DataFrame'>\n",
        "Int64Index: 891 entries, 0 to 890\n",
        "Data columns (total 12 columns):\n",
        "PassengerId    891 non-null int64\n",
        "Survived       891 non-null int64\n",
        "Pclass         891 non-null int64\n",
        "Name           891 non-null object\n",
        "Sex            891 non-null object\n",
        "Age            714 non-null float64\n",
        "SibSp          891 non-null int64\n",
        "Parch          891 non-null int64\n",
        "Ticket         891 non-null object\n",
        "Fare           891 non-null float64\n",
        "Cabin          204 non-null object\n",
        "Embarked       889 non-null object\n",
        "dtypes: float64(2), int64(5), object(5)"
       ]
      }
     ],
     "prompt_number": 59
    },
    {
     "cell_type": "markdown",
     "metadata": {},
     "source": [
      "There are missing values in Age, Cabin and Embarked"
     ]
    },
    {
     "cell_type": "code",
     "collapsed": false,
     "input": [
      "df.Embarked.describe()"
     ],
     "language": "python",
     "metadata": {},
     "outputs": [
      {
       "metadata": {},
       "output_type": "pyout",
       "prompt_number": 60,
       "text": [
        "count     889\n",
        "unique      3\n",
        "top         S\n",
        "freq      644\n",
        "dtype: object"
       ]
      }
     ],
     "prompt_number": 60
    },
    {
     "cell_type": "code",
     "collapsed": false,
     "input": [
      "# seaborn is cool. Here we can the equivalent of a Pandas group by AND plot in one step\n",
      "sns.boxplot(df.Age, df.Sex)"
     ],
     "language": "python",
     "metadata": {},
     "outputs": [
      {
       "metadata": {},
       "output_type": "pyout",
       "prompt_number": 61,
       "text": [
        "<matplotlib.axes._subplots.AxesSubplot at 0x11114a810>"
       ]
      },
      {
       "metadata": {},
       "output_type": "display_data",
       "png": "[encoded data removed]",
       "text": [
        "<matplotlib.figure.Figure at 0x11114aed0>"
       ]
      }
     ],
     "prompt_number": 61
    },
    {
     "cell_type": "code",
     "collapsed": false,
     "input": [
      "# loof at the distribution of ages\n",
      "sns.kdeplot(df.Age, shade=True)"
     ],
     "language": "python",
     "metadata": {},
     "outputs": [
      {
       "metadata": {},
       "output_type": "pyout",
       "prompt_number": 62,
       "text": [
        "<matplotlib.axes._subplots.AxesSubplot at 0x1111be390>"
       ]
      },
      {
       "metadata": {},
       "output_type": "display_data",
       "png": "[encoded data removed]",
       "text": [
        "<matplotlib.figure.Figure at 0x1111c8450>"
       ]
      }
     ],
     "prompt_number": 62
    },
    {
     "cell_type": "code",
     "collapsed": false,
     "input": [
      "sns.boxplot(df.Age, df.Survived)"
     ],
     "language": "python",
     "metadata": {},
     "outputs": [
      {
       "metadata": {},
       "output_type": "pyout",
       "prompt_number": 63,
       "text": [
        "<matplotlib.axes._subplots.AxesSubplot at 0x1113bcd50>"
       ]
      },
      {
       "metadata": {},
       "output_type": "display_data",
       "png": "[encoded data removed]",
       "text": [
        "<matplotlib.figure.Figure at 0x1113cd150>"
       ]
      }
     ],
     "prompt_number": 63
    },
    {
     "cell_type": "code",
     "collapsed": false,
     "input": [
      "# Lets populate 3 missing Embarked values with the mode value\n",
      "from scipy.stats import mode\n",
      "mode=mode(df.Embarked)[0][0]\n",
      "print mode\n",
      "df.Embarked = df.Embarked.fillna(mode)"
     ],
     "language": "python",
     "metadata": {},
     "outputs": [
      {
       "output_type": "stream",
       "stream": "stdout",
       "text": [
        "S\n"
       ]
      }
     ],
     "prompt_number": 64
    },
    {
     "cell_type": "code",
     "collapsed": false,
     "input": [
      "#Lets use a temp df to drop missing values. First drop all Cabin NAs, then drop the rest\n",
      "temp = df.drop(['Cabin'], axis =1)\n",
      "temp = temp.dropna()"
     ],
     "language": "python",
     "metadata": {},
     "outputs": [],
     "prompt_number": 65
    },
    {
     "cell_type": "code",
     "collapsed": false,
     "input": [
      "# Here's a way to view data using the Pandas groupby function\n",
      "grouped = temp.groupby('Pclass')\n",
      "grouped.get_group(1).Age.hist()\n",
      "grouped.get_group(2).Age.hist()\n",
      "grouped.get_group(3).Age.hist()"
     ],
     "language": "python",
     "metadata": {},
     "outputs": [
      {
       "metadata": {},
       "output_type": "pyout",
       "prompt_number": 66,
       "text": [
        "<matplotlib.axes._subplots.AxesSubplot at 0x111518d50>"
       ]
      },
      {
       "metadata": {},
       "output_type": "display_data",
       "png": "[encoded data removed]",
       "text": [
        "<matplotlib.figure.Figure at 0x11054e490>"
       ]
      }
     ],
     "prompt_number": 66
    },
    {
     "cell_type": "code",
     "collapsed": false,
     "input": [
      "#Here we use matplotlip. Notice that this graph tells us that age distribution is different for each class\n",
      "plt.figure(figsize(5,3))\n",
      "temp.Age[temp.Pclass == 1].plot(kind='kde')    \n",
      "temp.Age[temp.Pclass == 2].plot(kind='kde')\n",
      "temp.Age[temp.Pclass == 3].plot(kind='kde')\n",
      "plt.xlabel(\"Age\")    \n",
      "plt.title(\"Age by class\")\n",
      "plt.legend(('1st', '2nd','3rd'))"
     ],
     "language": "python",
     "metadata": {},
     "outputs": [
      {
       "metadata": {},
       "output_type": "pyout",
       "prompt_number": 67,
       "text": [
        "<matplotlib.legend.Legend at 0x111a31910>"
       ]
      },
      {
       "metadata": {},
       "output_type": "display_data",
       "png": "[encoded data removed]",
       "text": [
        "<matplotlib.figure.Figure at 0x1118b7c50>"
       ]
      }
     ],
     "prompt_number": 67
    },
    {
     "cell_type": "code",
     "collapsed": false,
     "input": [
      "#Lets get the mean and median ages\n",
      "meanAges = df.pivot_table('Age', rows = 'Pclass', aggfunc = 'mean')\n",
      "print meanAges\n",
      "medianAges = df.pivot_table('Age', rows = 'Pclass', aggfunc = 'median')\n",
      "print medianAges"
     ],
     "language": "python",
     "metadata": {},
     "outputs": [
      {
       "output_type": "stream",
       "stream": "stdout",
       "text": [
        "Pclass\n",
        "1         38.233441\n",
        "2         29.877630\n",
        "3         25.140620\n",
        "Name: Age, dtype: float64\n",
        "Pclass\n",
        "1         37\n",
        "2         29\n",
        "3         24\n",
        "Name: Age, dtype: float64\n"
       ]
      }
     ],
     "prompt_number": 68
    },
    {
     "cell_type": "code",
     "collapsed": false,
     "input": [
      "#Lets plugin median ages for the missing values\n",
      "df.Age = df[['Age', 'Pclass']].apply(lambda x: int(meanAges[x['Pclass']]) if pd.isnull(x['Age']) else x['Age'], axis =1)"
     ],
     "language": "python",
     "metadata": {},
     "outputs": [],
     "prompt_number": 69
    },
    {
     "cell_type": "code",
     "collapsed": false,
     "input": [
      "(df.Fare==0).sum()"
     ],
     "language": "python",
     "metadata": {},
     "outputs": [
      {
       "metadata": {},
       "output_type": "pyout",
       "prompt_number": 70,
       "text": [
        "15"
       ]
      }
     ],
     "prompt_number": 70
    },
    {
     "cell_type": "code",
     "collapsed": false,
     "input": [
      "medianFare = df.pivot_table('Fare', rows = 'Pclass', aggfunc = 'median')"
     ],
     "language": "python",
     "metadata": {},
     "outputs": [],
     "prompt_number": 71
    },
    {
     "cell_type": "code",
     "collapsed": false,
     "input": [
      "df.Fare = df[['Fare', 'Pclass']].apply(lambda x: medianFare[x['Pclass']] if x['Fare'] ==0 else x['Fare'], axis=1)"
     ],
     "language": "python",
     "metadata": {},
     "outputs": [],
     "prompt_number": 72
    },
    {
     "cell_type": "code",
     "collapsed": false,
     "input": [
      "#Now our data is fixed and ready\n",
      "df.describe()"
     ],
     "language": "python",
     "metadata": {},
     "outputs": [
      {
       "html": [
        "<div style=\"max-height:1000px;max-width:1500px;overflow:auto;\">\n",
        "<table border=\"1\" class=\"dataframe\">\n",
        "  <thead>\n",
        "    <tr style=\"text-align: right;\">\n",
        "      <th></th>\n",
        "      <th>PassengerId</th>\n",
        "      <th>Survived</th>\n",
        "      <th>Pclass</th>\n",
        "      <th>Age</th>\n",
        "      <th>SibSp</th>\n",
        "      <th>Parch</th>\n",
        "      <th>Fare</th>\n",
        "    </tr>\n",
        "  </thead>\n",
        "  <tbody>\n",
        "    <tr>\n",
        "      <th>count</th>\n",
        "      <td> 891.000000</td>\n",
        "      <td> 891.000000</td>\n",
        "      <td> 891.000000</td>\n",
        "      <td> 891.000000</td>\n",
        "      <td> 891.000000</td>\n",
        "      <td> 891.000000</td>\n",
        "      <td> 891.000000</td>\n",
        "    </tr>\n",
        "    <tr>\n",
        "      <th>mean</th>\n",
        "      <td> 446.000000</td>\n",
        "      <td>   0.383838</td>\n",
        "      <td>   2.308642</td>\n",
        "      <td>  29.252716</td>\n",
        "      <td>   0.523008</td>\n",
        "      <td>   0.381594</td>\n",
        "      <td>  32.674620</td>\n",
        "    </tr>\n",
        "    <tr>\n",
        "      <th>std</th>\n",
        "      <td> 257.353842</td>\n",
        "      <td>   0.486592</td>\n",
        "      <td>   0.836071</td>\n",
        "      <td>  13.211959</td>\n",
        "      <td>   1.102743</td>\n",
        "      <td>   0.806057</td>\n",
        "      <td>  49.608084</td>\n",
        "    </tr>\n",
        "    <tr>\n",
        "      <th>min</th>\n",
        "      <td>   1.000000</td>\n",
        "      <td>   0.000000</td>\n",
        "      <td>   1.000000</td>\n",
        "      <td>   0.420000</td>\n",
        "      <td>   0.000000</td>\n",
        "      <td>   0.000000</td>\n",
        "      <td>   4.012500</td>\n",
        "    </tr>\n",
        "    <tr>\n",
        "      <th>25%</th>\n",
        "      <td> 223.500000</td>\n",
        "      <td>   0.000000</td>\n",
        "      <td>   2.000000</td>\n",
        "      <td>  22.000000</td>\n",
        "      <td>   0.000000</td>\n",
        "      <td>   0.000000</td>\n",
        "      <td>   7.925000</td>\n",
        "    </tr>\n",
        "    <tr>\n",
        "      <th>50%</th>\n",
        "      <td> 446.000000</td>\n",
        "      <td>   0.000000</td>\n",
        "      <td>   3.000000</td>\n",
        "      <td>  26.000000</td>\n",
        "      <td>   0.000000</td>\n",
        "      <td>   0.000000</td>\n",
        "      <td>  14.500000</td>\n",
        "    </tr>\n",
        "    <tr>\n",
        "      <th>75%</th>\n",
        "      <td> 668.500000</td>\n",
        "      <td>   1.000000</td>\n",
        "      <td>   3.000000</td>\n",
        "      <td>  37.000000</td>\n",
        "      <td>   1.000000</td>\n",
        "      <td>   0.000000</td>\n",
        "      <td>  31.275000</td>\n",
        "    </tr>\n",
        "    <tr>\n",
        "      <th>max</th>\n",
        "      <td> 891.000000</td>\n",
        "      <td>   1.000000</td>\n",
        "      <td>   3.000000</td>\n",
        "      <td>  80.000000</td>\n",
        "      <td>   8.000000</td>\n",
        "      <td>   6.000000</td>\n",
        "      <td> 512.329200</td>\n",
        "    </tr>\n",
        "  </tbody>\n",
        "</table>\n",
        "</div>"
       ],
       "metadata": {},
       "output_type": "pyout",
       "prompt_number": 73,
       "text": [
        "       PassengerId    Survived      Pclass         Age       SibSp  \\\n",
        "count   891.000000  891.000000  891.000000  891.000000  891.000000   \n",
        "mean    446.000000    0.383838    2.308642   29.252716    0.523008   \n",
        "std     257.353842    0.486592    0.836071   13.211959    1.102743   \n",
        "min       1.000000    0.000000    1.000000    0.420000    0.000000   \n",
        "25%     223.500000    0.000000    2.000000   22.000000    0.000000   \n",
        "50%     446.000000    0.000000    3.000000   26.000000    0.000000   \n",
        "75%     668.500000    1.000000    3.000000   37.000000    1.000000   \n",
        "max     891.000000    1.000000    3.000000   80.000000    8.000000   \n",
        "\n",
        "            Parch        Fare  \n",
        "count  891.000000  891.000000  \n",
        "mean     0.381594   32.674620  \n",
        "std      0.806057   49.608084  \n",
        "min      0.000000    4.012500  \n",
        "25%      0.000000    7.925000  \n",
        "50%      0.000000   14.500000  \n",
        "75%      0.000000   31.275000  \n",
        "max      6.000000  512.329200  "
       ]
      }
     ],
     "prompt_number": 73
    },
    {
     "cell_type": "code",
     "collapsed": false,
     "input": [
      "#some data re-engineering\n",
      "df['familySize'] = df.SibSp + df.Parch +1"
     ],
     "language": "python",
     "metadata": {},
     "outputs": [],
     "prompt_number": 74
    },
    {
     "cell_type": "code",
     "collapsed": false,
     "input": [
      "df['Gender'] = df['Sex'].map({'female':0, 'male':1}).astype(int)"
     ],
     "language": "python",
     "metadata": {},
     "outputs": [],
     "prompt_number": 75
    },
    {
     "cell_type": "code",
     "collapsed": false,
     "input": [
      "port_dict = {name: i for i, name in list(enumerate(np.unique(df['Embarked'])))}\n",
      "df['Port'] = df['Embarked'].map(lambda x: port_dict[x])"
     ],
     "language": "python",
     "metadata": {},
     "outputs": [],
     "prompt_number": 76
    },
    {
     "cell_type": "code",
     "collapsed": true,
     "input": [
      "#Lets view the data\n",
      "fig = plt.figure(figsize=(18,9), dpi=1600)\n",
      "fig.subplots_adjust(left=0, right=1, bottom=0, top=1, hspace =.5, wspace=.15)\n",
      "alpha=alpha_scatterplot = 0.2 \n",
      "alpha_bar_chart = 0.55\n",
      "\n",
      "ax1 = plt.subplot2grid((3,3),(0,0))\n",
      "df.Survived.value_counts().plot(kind='bar', alpha=alpha_bar_chart)\n",
      "ax1.set_xlim(-1, 2)\n",
      "ax1.set_xticklabels([\"Died\", \"Survived\"], rotation=0)\n",
      "plt.title(\"Distribution of Survival\")    \n",
      "\n",
      "plt.subplot2grid((3,3),(0,2))\n",
      "plt.scatter(df.Survived, df.Age, alpha=alpha_scatterplot)\n",
      "plt.ylabel(\"Age\")\n",
      "plt.title(\"Survial by Age\")\n",
      "\n",
      "ax3 = plt.subplot2grid((3,3),(0,1))\n",
      "df.Pclass.value_counts().plot(kind=\"bar\", alpha=alpha_bar_chart)\n",
      "ax3.set_xticklabels([\"3rd Class\", \"1st Class\", \"2nd Class\"], rotation=0)\n",
      "plt.title(\"Class Distribution\")\n",
      "\n",
      "plt.subplot2grid((3,3),(1,0))\n",
      "plt.scatter(df.Survived, df.Gender, alpha=alpha_bar_chart)\n",
      "plt.ylabel(\"Age\")\n",
      "plt.title(\"Survial by Gender\")\n",
      "\n",
      "ax4 = plt.subplot2grid((3,3),(1,0))\n",
      "female1class = df.Survived[df.Sex == 'female'][df.Pclass == 1].value_counts()\n",
      "female1class.plot(kind='bar',  color = '#d01265',alpha=0.65)\n",
      "ax4.set_xticklabels([\"Survived\", \"Died\"], rotation=0)\n",
      "ax4.set_xlim(-1, len(female1class))\n",
      "plt.title(\"female 1st class\")\n",
      "\n",
      "ax4 = plt.subplot2grid((3,3),(1,1))\n",
      "female2class = df.Survived[df.Sex == 'female'][df.Pclass == 2].value_counts()\n",
      "female2class.plot(kind='bar', color = '#d01265',alpha=0.65)\n",
      "ax4.set_xticklabels([\"Survived\", \"Died\"], rotation=0)\n",
      "ax4.set_xlim(-1, len(female2class))\n",
      "plt.title(\"female 2nd class\")\n",
      "\n",
      "\n",
      "ax4 = plt.subplot2grid((3,3),(1,2))\n",
      "female3class = df.Survived[df.Sex == 'female'][df.Pclass == 3].value_counts()\n",
      "female3class.plot(kind='bar', color = '#d01265',alpha=0.65)\n",
      "ax4.set_xticklabels([\"Died\", \"Survived\"], rotation=0)\n",
      "ax4.set_xlim(-1, len(female3class))\n",
      "plt.title(\"female 3rd class\")\n",
      "\n",
      "\n",
      "ax4 = plt.subplot2grid((3,3),(2,0))\n",
      "male1 = df.Survived[df.Sex == 'male'][df.Pclass == 1].value_counts()\n",
      "male1.plot(kind='bar', color = '#2aa198',alpha=0.65)\n",
      "ax4.set_xticklabels([\"Died\", \"Survived\"], rotation=0)\n",
      "ax4.set_xlim(-1, len(male1))\n",
      "plt.title(\"male 1st class\")\n",
      "\n",
      "\n",
      "ax4 = plt.subplot2grid((3,3),(2,1))\n",
      "male2 = df.Survived[df.Sex == 'male'][df.Pclass == 2].value_counts()\n",
      "male2.plot(kind='bar', color = '#2aa198',alpha=0.65)\n",
      "ax4.set_xticklabels([\"Died\", \"Survived\"], rotation=0)\n",
      "ax4.set_xlim(-1, len(male2))\n",
      "plt.title(\"male 2nd class\")\n",
      "\n",
      "\n",
      "ax4 = plt.subplot2grid((3,3),(2,2))\n",
      "male3 = df.Survived[df.Sex == 'male'][df.Pclass == 3].value_counts()\n",
      "male3.plot(kind='bar', color = '#2aa198', alpha=0.65)\n",
      "ax4.set_xticklabels([\"Died\", \"Survived\"], rotation=0)\n",
      "ax4.set_xlim(-1, len(male3))\n",
      "plt.title(\"male 3rd class\")\n",
      "\n"
     ],
     "language": "python",
     "metadata": {},
     "outputs": [
      {
       "metadata": {},
       "output_type": "pyout",
       "prompt_number": 77,
       "text": [
        "<matplotlib.text.Text at 0x110dad210>"
       ]
      },
      {
       "metadata": {},
       "output_type": "display_data",
       "png": "[encoded data removed]",
       "text": [
        "<matplotlib.figure.Figure at 0x111b7cd90>"
       ]
      }
     ],
     "prompt_number": 77
    },
    {
     "cell_type": "code",
     "collapsed": false,
     "input": [
      "features = df[['Gender', 'Pclass','Fare', 'familySize', 'Port' ]].values\n",
      "target = df['Survived'].values"
     ],
     "language": "python",
     "metadata": {},
     "outputs": [],
     "prompt_number": 78
    },
    {
     "cell_type": "code",
     "collapsed": false,
     "input": [
      "feature_names = ['Gender', 'Pclass','Fare', 'familySize', 'Port']\n",
      "model_lr = LogisticRegression(C=1).fit(features, target)\n",
      "x = np.arange(len(feature_names))"
     ],
     "language": "python",
     "metadata": {},
     "outputs": [],
     "prompt_number": 79
    },
    {
     "cell_type": "code",
     "collapsed": false,
     "input": [
      "plt.bar(x, model_lr.coef_.ravel())\n",
      "_ = plt.xticks(x + 0.5, feature_names, rotation=30)"
     ],
     "language": "python",
     "metadata": {},
     "outputs": [
      {
       "metadata": {},
       "output_type": "display_data",
       "png": "[encoded data removed]",
       "text": [
        "<matplotlib.figure.Figure at 0x11192bad0>"
       ]
      }
     ],
     "prompt_number": 80
    },
    {
     "cell_type": "markdown",
     "metadata": {},
     "source": [
      "This correlation matrix tells us which features are most influential"
     ]
    },
    {
     "cell_type": "code",
     "collapsed": false,
     "input": [
      "from sklearn.cross_validation import KFold\n",
      "\n",
      "def cross_validate(X, y, classifier, k_fold) :\n",
      "\n",
      "    # derive a set of (random) training and testing indices\n",
      "    k_fold_indices = KFold(len(X), n_folds=k_fold,\n",
      "                           shuffle=True, random_state=0)\n",
      "\n",
      "    k_score_total = 0\n",
      "    # for each training and testing slices run the classifier, and score the results\n",
      "    for train_slice, test_slice in k_fold_indices :\n",
      "\n",
      "        model = classifier(X[ train_slice  ],\n",
      "                         y[ train_slice  ])\n",
      "\n",
      "        k_score = model.score(X[ test_slice ],\n",
      "                              y[ test_slice ])\n",
      "\n",
      "        k_score_total += k_score\n",
      "\n",
      "    # return the average accuracy\n",
      "    return k_score_total/k_fold"
     ],
     "language": "python",
     "metadata": {},
     "outputs": [],
     "prompt_number": 81
    },
    {
     "cell_type": "code",
     "collapsed": true,
     "input": [
      "model_lr = LogisticRegression(C=1).fit\n",
      "cross_validate(features, target, model_lr, 11)"
     ],
     "language": "python",
     "metadata": {},
     "outputs": [
      {
       "metadata": {},
       "output_type": "pyout",
       "prompt_number": 82,
       "text": [
        "0.80022446689113347"
       ]
      }
     ],
     "prompt_number": 82
    },
    {
     "cell_type": "code",
     "collapsed": false,
     "input": [
      "model_lr = LogisticRegression(C=1).fit(features, target)\n",
      "y = model_lr.predict(features)"
     ],
     "language": "python",
     "metadata": {},
     "outputs": [],
     "prompt_number": 83
    },
    {
     "cell_type": "code",
     "collapsed": false,
     "input": [
      "from sklearn import metrics\n",
      "metrics.precision_score(target, y)  "
     ],
     "language": "python",
     "metadata": {},
     "outputs": [
      {
       "metadata": {},
       "output_type": "pyout",
       "prompt_number": 84,
       "text": [
        "0.778523489932886"
       ]
      }
     ],
     "prompt_number": 84
    },
    {
     "cell_type": "code",
     "collapsed": false,
     "input": [
      "target_predicted_proba = model_lr.predict_proba(features)\n",
      "proba = pd.DataFrame(target_predicted_proba[:,1])\n",
      "proba['class_0_at_80'] = proba[0].apply(lambda x:0 if x<.5 else 1)\n",
      "metrics.precision_score(target, proba['class_0_at_80'])  "
     ],
     "language": "python",
     "metadata": {},
     "outputs": [
      {
       "metadata": {},
       "output_type": "pyout",
       "prompt_number": 85,
       "text": [
        "0.778523489932886"
       ]
      }
     ],
     "prompt_number": 85
    },
    {
     "cell_type": "code",
     "collapsed": false,
     "input": [
      "from sklearn.metrics import roc_curve\n",
      "from sklearn.metrics import auc\n",
      "\n",
      "def plot_roc_curve(target_test, target_predicted_proba):\n",
      "    fpr, tpr, thresholds = roc_curve(target_test, target_predicted_proba[:, 1\n",
      "                                                                         ])\n",
      "    roc_auc = auc(fpr, tpr)\n",
      "    \n",
      "    # Plot ROC curve\n",
      "    plt.plot(fpr, tpr, label='ROC curve (area = %0.3f)' % roc_auc)\n",
      "    plt.plot([0, 1], [0, 1], 'k--')  # random predictions curve\n",
      "    plt.xlim([0.0, 1.0])\n",
      "    plt.ylim([0.0, 1.0])\n",
      "    plt.xlabel('False Positive Rate or (1 - Specifity)')\n",
      "    plt.ylabel('True Positive Rate or (Sensitivity)')\n",
      "    plt.title('Receiver Operating Characteristic')\n",
      "    plt.legend(loc=\"lower right\")"
     ],
     "language": "python",
     "metadata": {},
     "outputs": [],
     "prompt_number": 86
    },
    {
     "cell_type": "code",
     "collapsed": false,
     "input": [
      "from sklearn.cross_validation import train_test_split\n",
      "\n",
      "train_feat, test_feat, train_target, test_target = train_test_split(features, target, train_size=0.5)"
     ],
     "language": "python",
     "metadata": {},
     "outputs": [],
     "prompt_number": 87
    },
    {
     "cell_type": "code",
     "collapsed": false,
     "input": [
      "model_lr = LogisticRegression(C=1).fit(train_feat, train_target)\n",
      "target_predicted_proba = model_lr.predict_proba(test_feat)"
     ],
     "language": "python",
     "metadata": {},
     "outputs": [],
     "prompt_number": 88
    },
    {
     "cell_type": "code",
     "collapsed": false,
     "input": [
      "plot_roc_curve(test_target, target_predicted_proba)"
     ],
     "language": "python",
     "metadata": {},
     "outputs": [
      {
       "metadata": {},
       "output_type": "display_data",
       "png": "[encoded data removed]",
       "text": [
        "<matplotlib.figure.Figure at 0x111aecd10>"
       ]
      }
     ],
     "prompt_number": 89
    },
    {
     "cell_type": "code",
     "collapsed": false,
     "input": [
      "model_lr = LogisticRegression(C=1).fit(features, target)"
     ],
     "language": "python",
     "metadata": {},
     "outputs": [],
     "prompt_number": 90
    },
    {
     "cell_type": "code",
     "collapsed": false,
     "input": [
      "df = pd.read_csv('test.csv', header = 0)\n",
      "#mode=mode(df.Embarked)[0][0]\n",
      "df.Embarked = df.Embarked.fillna('S')\n",
      "meanAges = df.pivot_table('Age', rows = 'Pclass', aggfunc = 'mean')\n",
      "medianAges = df.pivot_table('Age', rows = 'Pclass', aggfunc = 'median')\n",
      "df.Age = df[['Age', 'Pclass']].apply(lambda x: int(medianAges[x['Pclass']]) if pd.isnull(x['Age']) else x['Age'], axis =1)\n",
      "medianFare = df.pivot_table('Fare', rows = 'Pclass', aggfunc = 'median')\n",
      "df.Fare = df[['Fare', 'Pclass']].apply(lambda x: medianFare[x['Pclass']] if x['Fare'] ==0 else x['Fare'], axis=1)\n",
      "df.Fare = df.Fare.fillna(13) # one fare value slipped through the cracks. must investigate\n",
      "df['familySize'] = df.SibSp + df.Parch +1\n",
      "df['Gender'] = df['Sex'].map({'female':0, 'male':1}).astype(int)\n",
      "port_dict = {name: i for i, name in list(enumerate(np.unique(df['Embarked'])))}\n",
      "df['Port'] = df['Embarked'].map(lambda x: port_dict[x])\n",
      "features = df[['familySize', 'Fare', 'Pclass', 'Gender', 'Port']].values"
     ],
     "language": "python",
     "metadata": {},
     "outputs": [],
     "prompt_number": 91
    },
    {
     "cell_type": "code",
     "collapsed": false,
     "input": [
      "y = model_lr.predict(features)\n",
      "result = pd.DataFrame(df['PassengerId'])\n",
      "result['Survived'] = y\n",
      "result.to_csv('titanic_results', sep = ',', index = None)"
     ],
     "language": "python",
     "metadata": {},
     "outputs": [],
     "prompt_number": 92
    },
    {
     "cell_type": "markdown",
     "metadata": {},
     "source": [
      "Lets set our threshold to different values"
     ]
    },
    {
     "cell_type": "code",
     "collapsed": false,
     "input": [
      "target_predicted_proba = model_lr.predict_proba(features)\n",
      "proba = pd.DataFrame(target_predicted_proba[:,1])\n",
      "proba['class_0_at_58'] = proba[0].apply(lambda x:0 if x<.58 else 1)\n",
      "result = pd.DataFrame(df['PassengerId'])\n",
      "result['Survived'] = proba['class_0_at_58']\n",
      "result.to_csv('titanic_results_with_threshold', sep = ',', index = None)"
     ],
     "language": "python",
     "metadata": {},
     "outputs": [],
     "prompt_number": 93
    },
    {
     "cell_type": "heading",
     "level": 3,
     "metadata": {},
     "source": [
      "Submitting these results to Kaggle, we are rewarded with a score of .70"
     ]
    }
   ],
   "metadata": {}
  }
 ]
}