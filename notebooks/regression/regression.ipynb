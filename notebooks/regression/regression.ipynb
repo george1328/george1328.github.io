{
 "metadata": {
  "name": "",
  "signature": "sha256:02c6b55418f3aa2a751245f296358a69ae90c322027348295218eddb13db6fc5"
 },
 "nbformat": 3,
 "nbformat_minor": 0,
 "worksheets": [
  {
   "cells": [
    {
     "cell_type": "heading",
     "level": 2,
     "metadata": {},
     "source": [
      "Regression using SciKit Learn"
     ]
    },
    {
     "cell_type": "markdown",
     "metadata": {},
     "source": [
      "We use linear regression and polynomial regression to model the relationship between features and the response variable.\n",
      "\n",
      "For the mathematical explanation and theory, please view lecture notes: http://george1328.github.io/lecture_notes/DAT10_lec05_Regression_Regularization.pdf\n",
      "\n",
      "We will use the MPG dataset to practice using regression to predict a fuel economy(MPG) of a car given its features."
     ]
    },
    {
     "cell_type": "heading",
     "level": 3,
     "metadata": {},
     "source": [
      "Step 1: Get the data"
     ]
    },
    {
     "cell_type": "code",
     "collapsed": false,
     "input": [
      "import pandas as pd\n",
      "%pylab inline"
     ],
     "language": "python",
     "metadata": {},
     "outputs": [
      {
       "output_type": "stream",
       "stream": "stdout",
       "text": [
        "Populating the interactive namespace from numpy and matplotlib\n"
       ]
      }
     ],
     "prompt_number": 43
    },
    {
     "cell_type": "code",
     "collapsed": false,
     "input": [
      "# Column/Feature label are not available in the dataset, so we create a list of features using auto-mpg.names\n",
      "features = ['mpg', 'cylinders', 'displacement', 'horsepower', 'weight', 'acceleration', 'model year', 'origin', 'car name']"
     ],
     "language": "python",
     "metadata": {},
     "outputs": [],
     "prompt_number": 44
    },
    {
     "cell_type": "code",
     "collapsed": false,
     "input": [
      "# Import the data directly into pandas from the url, specify header=None as column labels are not in dataset\n",
      "import urllib\n",
      "url = 'https://archive.ics.uci.edu/ml/machine-learning-databases/auto-mpg/auto-mpg.data'\n",
      "# file is fixed-width-format so we will use read_fwf instead of read_csv\n",
      "df = pd.read_fwf(urllib.urlopen(url), header = None)\n",
      "df.columns = features"
     ],
     "language": "python",
     "metadata": {},
     "outputs": [],
     "prompt_number": 45
    },
    {
     "cell_type": "code",
     "collapsed": false,
     "input": [
      "# Alternatively, we can download the data\n",
      "# We use the bang(!) within iPython Notebooks to run command line statements directly from the Notebook\n",
      "! curl -O https://archive.ics.uci.edu/ml/machine-learning-databases/auto-mpg/auto-mpg.data\n",
      "! curl -O https://archive.ics.uci.edu/ml/machine-learning-databases/auto-mpg/auto-mpg.names"
     ],
     "language": "python",
     "metadata": {},
     "outputs": [
      {
       "output_type": "stream",
       "stream": "stdout",
       "text": [
        "  % Total    % Received % Xferd  Average Speed   Time    Time     Time  Current\r\n",
        "                                 Dload  Upload   Total   Spent    Left  Speed\r\n",
        "\r",
        "  0     0    0     0    0     0      0      0 --:--:-- --:--:-- --:--:--     0"
       ]
      },
      {
       "output_type": "stream",
       "stream": "stdout",
       "text": [
        "\r",
        "100 30286  100 30286    0     0  85395      0 --:--:-- --:--:-- --:--:-- 85553\r\n"
       ]
      },
      {
       "output_type": "stream",
       "stream": "stdout",
       "text": [
        "  % Total    % Received % Xferd  Average Speed   Time    Time     Time  Current\r\n",
        "                                 Dload  Upload   Total   Spent    Left  Speed\r\n",
        "\r",
        "  0     0    0     0    0     0      0      0 --:--:-- --:--:-- --:--:--     0"
       ]
      },
      {
       "output_type": "stream",
       "stream": "stdout",
       "text": [
        "\r",
        "100  1660  100  1660    0     0   5315      0 --:--:-- --:--:-- --:--:--  5320\r\n"
       ]
      }
     ],
     "prompt_number": 46
    },
    {
     "cell_type": "code",
     "collapsed": false,
     "input": [
      "# Since this dataset has no column headings, we need to explicitely state names=features\n",
      "df = pd.read_fwf(\"auto-mpg.data\", names = features)"
     ],
     "language": "python",
     "metadata": {},
     "outputs": [],
     "prompt_number": 47
    },
    {
     "cell_type": "heading",
     "level": 3,
     "metadata": {},
     "source": [
      "Step 2: Clean the data\n"
     ]
    },
    {
     "cell_type": "code",
     "collapsed": false,
     "input": [
      "# Use head, describe, info and unique to get a sense of the data\n",
      "df.describe()"
     ],
     "language": "python",
     "metadata": {},
     "outputs": [
      {
       "html": [
        "<div style=\"max-height:1000px;max-width:1500px;overflow:auto;\">\n",
        "<table border=\"1\" class=\"dataframe\">\n",
        "  <thead>\n",
        "    <tr style=\"text-align: right;\">\n",
        "      <th></th>\n",
        "      <th>mpg</th>\n",
        "      <th>cylinders</th>\n",
        "      <th>displacement</th>\n",
        "      <th>weight</th>\n",
        "      <th>acceleration</th>\n",
        "      <th>model year</th>\n",
        "      <th>origin</th>\n",
        "    </tr>\n",
        "  </thead>\n",
        "  <tbody>\n",
        "    <tr>\n",
        "      <th>count</th>\n",
        "      <td> 398.000000</td>\n",
        "      <td> 398.000000</td>\n",
        "      <td> 398.000000</td>\n",
        "      <td>  398.000000</td>\n",
        "      <td> 398.000000</td>\n",
        "      <td> 398.000000</td>\n",
        "      <td> 398.000000</td>\n",
        "    </tr>\n",
        "    <tr>\n",
        "      <th>mean</th>\n",
        "      <td>  23.514573</td>\n",
        "      <td>   5.454774</td>\n",
        "      <td> 193.425879</td>\n",
        "      <td> 2970.424623</td>\n",
        "      <td>  15.568090</td>\n",
        "      <td>  76.010050</td>\n",
        "      <td>   1.572864</td>\n",
        "    </tr>\n",
        "    <tr>\n",
        "      <th>std</th>\n",
        "      <td>   7.815984</td>\n",
        "      <td>   1.701004</td>\n",
        "      <td> 104.269838</td>\n",
        "      <td>  846.841774</td>\n",
        "      <td>   2.757689</td>\n",
        "      <td>   3.697627</td>\n",
        "      <td>   0.802055</td>\n",
        "    </tr>\n",
        "    <tr>\n",
        "      <th>min</th>\n",
        "      <td>   9.000000</td>\n",
        "      <td>   3.000000</td>\n",
        "      <td>  68.000000</td>\n",
        "      <td> 1613.000000</td>\n",
        "      <td>   8.000000</td>\n",
        "      <td>  70.000000</td>\n",
        "      <td>   1.000000</td>\n",
        "    </tr>\n",
        "    <tr>\n",
        "      <th>25%</th>\n",
        "      <td>  17.500000</td>\n",
        "      <td>   4.000000</td>\n",
        "      <td> 104.250000</td>\n",
        "      <td> 2223.750000</td>\n",
        "      <td>  13.825000</td>\n",
        "      <td>  73.000000</td>\n",
        "      <td>   1.000000</td>\n",
        "    </tr>\n",
        "    <tr>\n",
        "      <th>50%</th>\n",
        "      <td>  23.000000</td>\n",
        "      <td>   4.000000</td>\n",
        "      <td> 148.500000</td>\n",
        "      <td> 2803.500000</td>\n",
        "      <td>  15.500000</td>\n",
        "      <td>  76.000000</td>\n",
        "      <td>   1.000000</td>\n",
        "    </tr>\n",
        "    <tr>\n",
        "      <th>75%</th>\n",
        "      <td>  29.000000</td>\n",
        "      <td>   8.000000</td>\n",
        "      <td> 262.000000</td>\n",
        "      <td> 3608.000000</td>\n",
        "      <td>  17.175000</td>\n",
        "      <td>  79.000000</td>\n",
        "      <td>   2.000000</td>\n",
        "    </tr>\n",
        "    <tr>\n",
        "      <th>max</th>\n",
        "      <td>  46.600000</td>\n",
        "      <td>   8.000000</td>\n",
        "      <td> 455.000000</td>\n",
        "      <td> 5140.000000</td>\n",
        "      <td>  24.800000</td>\n",
        "      <td>  82.000000</td>\n",
        "      <td>   3.000000</td>\n",
        "    </tr>\n",
        "  </tbody>\n",
        "</table>\n",
        "</div>"
       ],
       "metadata": {},
       "output_type": "pyout",
       "prompt_number": 48,
       "text": [
        "              mpg   cylinders  displacement       weight  acceleration  \\\n",
        "count  398.000000  398.000000    398.000000   398.000000    398.000000   \n",
        "mean    23.514573    5.454774    193.425879  2970.424623     15.568090   \n",
        "std      7.815984    1.701004    104.269838   846.841774      2.757689   \n",
        "min      9.000000    3.000000     68.000000  1613.000000      8.000000   \n",
        "25%     17.500000    4.000000    104.250000  2223.750000     13.825000   \n",
        "50%     23.000000    4.000000    148.500000  2803.500000     15.500000   \n",
        "75%     29.000000    8.000000    262.000000  3608.000000     17.175000   \n",
        "max     46.600000    8.000000    455.000000  5140.000000     24.800000   \n",
        "\n",
        "       model year      origin  \n",
        "count  398.000000  398.000000  \n",
        "mean    76.010050    1.572864  \n",
        "std      3.697627    0.802055  \n",
        "min     70.000000    1.000000  \n",
        "25%     73.000000    1.000000  \n",
        "50%     76.000000    1.000000  \n",
        "75%     79.000000    2.000000  \n",
        "max     82.000000    3.000000  "
       ]
      }
     ],
     "prompt_number": 48
    },
    {
     "cell_type": "code",
     "collapsed": false,
     "input": [
      "df.head()"
     ],
     "language": "python",
     "metadata": {},
     "outputs": [
      {
       "html": [
        "<div style=\"max-height:1000px;max-width:1500px;overflow:auto;\">\n",
        "<table border=\"1\" class=\"dataframe\">\n",
        "  <thead>\n",
        "    <tr style=\"text-align: right;\">\n",
        "      <th></th>\n",
        "      <th>mpg</th>\n",
        "      <th>cylinders</th>\n",
        "      <th>displacement</th>\n",
        "      <th>horsepower</th>\n",
        "      <th>weight</th>\n",
        "      <th>acceleration</th>\n",
        "      <th>model year</th>\n",
        "      <th>origin</th>\n",
        "      <th>car name</th>\n",
        "    </tr>\n",
        "  </thead>\n",
        "  <tbody>\n",
        "    <tr>\n",
        "      <th>0</th>\n",
        "      <td> 18</td>\n",
        "      <td> 8</td>\n",
        "      <td> 307</td>\n",
        "      <td> 130.0</td>\n",
        "      <td> 3504</td>\n",
        "      <td> 12.0</td>\n",
        "      <td> 70</td>\n",
        "      <td> 1</td>\n",
        "      <td> \"chevrolet chevelle malibu\"</td>\n",
        "    </tr>\n",
        "    <tr>\n",
        "      <th>1</th>\n",
        "      <td> 15</td>\n",
        "      <td> 8</td>\n",
        "      <td> 350</td>\n",
        "      <td> 165.0</td>\n",
        "      <td> 3693</td>\n",
        "      <td> 11.5</td>\n",
        "      <td> 70</td>\n",
        "      <td> 1</td>\n",
        "      <td>         \"buick skylark 320\"</td>\n",
        "    </tr>\n",
        "    <tr>\n",
        "      <th>2</th>\n",
        "      <td> 18</td>\n",
        "      <td> 8</td>\n",
        "      <td> 318</td>\n",
        "      <td> 150.0</td>\n",
        "      <td> 3436</td>\n",
        "      <td> 11.0</td>\n",
        "      <td> 70</td>\n",
        "      <td> 1</td>\n",
        "      <td>        \"plymouth satellite\"</td>\n",
        "    </tr>\n",
        "    <tr>\n",
        "      <th>3</th>\n",
        "      <td> 16</td>\n",
        "      <td> 8</td>\n",
        "      <td> 304</td>\n",
        "      <td> 150.0</td>\n",
        "      <td> 3433</td>\n",
        "      <td> 12.0</td>\n",
        "      <td> 70</td>\n",
        "      <td> 1</td>\n",
        "      <td>             \"amc rebel sst\"</td>\n",
        "    </tr>\n",
        "    <tr>\n",
        "      <th>4</th>\n",
        "      <td> 17</td>\n",
        "      <td> 8</td>\n",
        "      <td> 302</td>\n",
        "      <td> 140.0</td>\n",
        "      <td> 3449</td>\n",
        "      <td> 10.5</td>\n",
        "      <td> 70</td>\n",
        "      <td> 1</td>\n",
        "      <td>               \"ford torino\"</td>\n",
        "    </tr>\n",
        "  </tbody>\n",
        "</table>\n",
        "</div>"
       ],
       "metadata": {},
       "output_type": "pyout",
       "prompt_number": 49,
       "text": [
        "   mpg  cylinders  displacement horsepower  weight  acceleration  model year  \\\n",
        "0   18          8           307      130.0    3504          12.0          70   \n",
        "1   15          8           350      165.0    3693          11.5          70   \n",
        "2   18          8           318      150.0    3436          11.0          70   \n",
        "3   16          8           304      150.0    3433          12.0          70   \n",
        "4   17          8           302      140.0    3449          10.5          70   \n",
        "\n",
        "   origin                     car name  \n",
        "0       1  \"chevrolet chevelle malibu\"  \n",
        "1       1          \"buick skylark 320\"  \n",
        "2       1         \"plymouth satellite\"  \n",
        "3       1              \"amc rebel sst\"  \n",
        "4       1                \"ford torino\"  "
       ]
      }
     ],
     "prompt_number": 49
    },
    {
     "cell_type": "code",
     "collapsed": false,
     "input": [
      "df.info()"
     ],
     "language": "python",
     "metadata": {},
     "outputs": [
      {
       "output_type": "stream",
       "stream": "stdout",
       "text": [
        "<class 'pandas.core.frame.DataFrame'>\n",
        "Int64Index: 398 entries, 0 to 397\n",
        "Data columns (total 9 columns):\n",
        "mpg             398 non-null float64\n",
        "cylinders       398 non-null int64\n",
        "displacement    398 non-null float64\n",
        "horsepower      398 non-null object\n",
        "weight          398 non-null float64\n",
        "acceleration    398 non-null float64\n",
        "model year      398 non-null int64\n",
        "origin          398 non-null int64\n",
        "car name        398 non-null object\n",
        "dtypes: float64(4), int64(3), object(2)"
       ]
      }
     ],
     "prompt_number": 50
    },
    {
     "cell_type": "code",
     "collapsed": false,
     "input": [
      "# Name and Horsepower are the only non-numeric fields. Name of a car is unlikely to have an influence on the MPG.\n",
      "df.horsepower.unique()"
     ],
     "language": "python",
     "metadata": {},
     "outputs": [
      {
       "metadata": {},
       "output_type": "pyout",
       "prompt_number": 51,
       "text": [
        "array(['130.0', '165.0', '150.0', '140.0', '198.0', '220.0', '215.0',\n",
        "       '225.0', '190.0', '170.0', '160.0', '95.00', '97.00', '85.00',\n",
        "       '88.00', '46.00', '87.00', '90.00', '113.0', '200.0', '210.0',\n",
        "       '193.0', '?', '100.0', '105.0', '175.0', '153.0', '180.0', '110.0',\n",
        "       '72.00', '86.00', '70.00', '76.00', '65.00', '69.00', '60.00',\n",
        "       '80.00', '54.00', '208.0', '155.0', '112.0', '92.00', '145.0',\n",
        "       '137.0', '158.0', '167.0', '94.00', '107.0', '230.0', '49.00',\n",
        "       '75.00', '91.00', '122.0', '67.00', '83.00', '78.00', '52.00',\n",
        "       '61.00', '93.00', '148.0', '129.0', '96.00', '71.00', '98.00',\n",
        "       '115.0', '53.00', '81.00', '79.00', '120.0', '152.0', '102.0',\n",
        "       '108.0', '68.00', '58.00', '149.0', '89.00', '63.00', '48.00',\n",
        "       '66.00', '139.0', '103.0', '125.0', '133.0', '138.0', '135.0',\n",
        "       '142.0', '77.00', '62.00', '132.0', '84.00', '64.00', '74.00',\n",
        "       '116.0', '82.00'], dtype=object)"
       ]
      }
     ],
     "prompt_number": 51
    },
    {
     "cell_type": "code",
     "collapsed": false,
     "input": [
      "(df.horsepower == '?').sum()"
     ],
     "language": "python",
     "metadata": {},
     "outputs": [
      {
       "metadata": {},
       "output_type": "pyout",
       "prompt_number": 52,
       "text": [
        "6"
       ]
      }
     ],
     "prompt_number": 52
    },
    {
     "cell_type": "code",
     "collapsed": false,
     "input": [
      "# Lets convert horsepower to a numeric field so we can use it in our analysis\n",
      "df['horsepower'] = df['horsepower'].convert_objects(convert_numeric = True)"
     ],
     "language": "python",
     "metadata": {},
     "outputs": [],
     "prompt_number": 53
    },
    {
     "cell_type": "code",
     "collapsed": false,
     "input": [
      "# We will drop the 6 records that are missing horsepower. We could extimate these missing values but for the sake of accuracy\n",
      "# we will not. Also, its only 6 missing values\n",
      "df = df.dropna()"
     ],
     "language": "python",
     "metadata": {},
     "outputs": [],
     "prompt_number": 54
    },
    {
     "cell_type": "code",
     "collapsed": false,
     "input": [
      "df.info()"
     ],
     "language": "python",
     "metadata": {},
     "outputs": [
      {
       "output_type": "stream",
       "stream": "stdout",
       "text": [
        "<class 'pandas.core.frame.DataFrame'>\n",
        "Int64Index: 392 entries, 0 to 397\n",
        "Data columns (total 9 columns):\n",
        "mpg             392 non-null float64\n",
        "cylinders       392 non-null int64\n",
        "displacement    392 non-null float64\n",
        "horsepower      392 non-null float64\n",
        "weight          392 non-null float64\n",
        "acceleration    392 non-null float64\n",
        "model year      392 non-null int64\n",
        "origin          392 non-null int64\n",
        "car name        392 non-null object\n",
        "dtypes: float64(5), int64(3), object(1)"
       ]
      }
     ],
     "prompt_number": 55
    },
    {
     "cell_type": "heading",
     "level": 3,
     "metadata": {},
     "source": [
      "Step 3: Get a sense of the data using Exploratory Data Analysis(EDA)"
     ]
    },
    {
     "cell_type": "code",
     "collapsed": false,
     "input": [
      "import seaborn as sns"
     ],
     "language": "python",
     "metadata": {},
     "outputs": [],
     "prompt_number": 56
    },
    {
     "cell_type": "code",
     "collapsed": false,
     "input": [
      "sns.boxplot(df.mpg, df.cylinders)\n",
      "# This is interesting. 4 cylinder vehicles have better mileage on average than 3 cylinder vehicles"
     ],
     "language": "python",
     "metadata": {},
     "outputs": [
      {
       "metadata": {},
       "output_type": "pyout",
       "prompt_number": 57,
       "text": [
        "<matplotlib.axes._subplots.AxesSubplot at 0x11156f590>"
       ]
      },
      {
       "metadata": {},
       "output_type": "display_data",
       "png": "[encoded data removed]",
       "text": [
        "<matplotlib.figure.Figure at 0x111b3ec90>"
       ]
      }
     ],
     "prompt_number": 57
    },
    {
     "cell_type": "code",
     "collapsed": false,
     "input": [
      "three_cyl = df[df.cylinders == 3]\n",
      "print three_cyl['car name']\n",
      "## Aha! Tiny Mazda roadsters..."
     ],
     "language": "python",
     "metadata": {},
     "outputs": [
      {
       "output_type": "stream",
       "stream": "stdout",
       "text": [
        "71     \"mazda rx2 coupe\"\n",
        "111          \"maxda rx3\"\n",
        "243         \"mazda rx-4\"\n",
        "334      \"mazda rx-7 gs\"\n",
        "Name: car name, dtype: object\n"
       ]
      }
     ],
     "prompt_number": 58
    },
    {
     "cell_type": "code",
     "collapsed": false,
     "input": [
      "sns.violinplot(df.mpg, df['model year'])\n",
      "# Fancy seaborn graphing"
     ],
     "language": "python",
     "metadata": {},
     "outputs": [
      {
       "metadata": {},
       "output_type": "pyout",
       "prompt_number": 59,
       "text": [
        "<matplotlib.axes._subplots.AxesSubplot at 0x1116b3950>"
       ]
      },
      {
       "metadata": {},
       "output_type": "display_data",
       "png": "[encoded data removed]",
       "text": [
        "<matplotlib.figure.Figure at 0x1116b3250>"
       ]
      }
     ],
     "prompt_number": 59
    },
    {
     "cell_type": "code",
     "collapsed": false,
     "input": [
      "sns.barplot(df.mpg, df.horsepower)"
     ],
     "language": "python",
     "metadata": {},
     "outputs": [
      {
       "metadata": {},
       "output_type": "pyout",
       "prompt_number": 60,
       "text": [
        "<matplotlib.axes._subplots.AxesSubplot at 0x1115fd9d0>"
       ]
      },
      {
       "metadata": {},
       "output_type": "display_data",
       "png": "[encoded data removed]",
       "text": [
        "<matplotlib.figure.Figure at 0x111f99090>"
       ]
      }
     ],
     "prompt_number": 60
    },
    {
     "cell_type": "code",
     "collapsed": false,
     "input": [
      "sns.barplot(df.mpg, df.weight)"
     ],
     "language": "python",
     "metadata": {},
     "outputs": [
      {
       "metadata": {},
       "output_type": "pyout",
       "prompt_number": 61,
       "text": [
        "<matplotlib.axes._subplots.AxesSubplot at 0x1129ff9d0>"
       ]
      },
      {
       "metadata": {},
       "output_type": "display_data",
       "png": "[encoded data removed]",
       "text": [
        "<matplotlib.figure.Figure at 0x112a64e10>"
       ]
      }
     ],
     "prompt_number": 61
    },
    {
     "cell_type": "code",
     "collapsed": false,
     "input": [
      "sns.boxplot(df.mpg, df.origin)\n",
      "# Although the values of origin are not given, we can guess that 1=USA, 2=Europe and 3=Japan... Maybe..."
     ],
     "language": "python",
     "metadata": {},
     "outputs": [
      {
       "metadata": {},
       "output_type": "pyout",
       "prompt_number": 62,
       "text": [
        "<matplotlib.axes._subplots.AxesSubplot at 0x113e3eb90>"
       ]
      },
      {
       "metadata": {},
       "output_type": "display_data",
       "png": "[encoded data removed]",
       "text": [
        "<matplotlib.figure.Figure at 0x112ae6b50>"
       ]
      }
     ],
     "prompt_number": 62
    },
    {
     "cell_type": "code",
     "collapsed": false,
     "input": [
      "sns.boxplot(df.mpg, df.acceleration)\n",
      "# Little cars have pretty good accelaration AND good mileage so not a great association"
     ],
     "language": "python",
     "metadata": {},
     "outputs": [
      {
       "metadata": {},
       "output_type": "pyout",
       "prompt_number": 63,
       "text": [
        "<matplotlib.axes._subplots.AxesSubplot at 0x1127112d0>"
       ]
      },
      {
       "metadata": {},
       "output_type": "display_data",
       "png": "[encoded data removed]",
       "text": [
        "<matplotlib.figure.Figure at 0x1126e6bd0>"
       ]
      }
     ],
     "prompt_number": 63
    },
    {
     "cell_type": "code",
     "collapsed": false,
     "input": [
      "sns.kdeplot(df.mpg, df.cylinders)\n",
      "# Showing different plot options in seaborn :-)"
     ],
     "language": "python",
     "metadata": {},
     "outputs": [
      {
       "metadata": {},
       "output_type": "pyout",
       "prompt_number": 64,
       "text": [
        "<matplotlib.axes._subplots.AxesSubplot at 0x116532710>"
       ]
      },
      {
       "metadata": {},
       "output_type": "display_data",
       "png": "[encoded data removed]",
       "text": [
        "<matplotlib.figure.Figure at 0x1126de710>"
       ]
      }
     ],
     "prompt_number": 64
    },
    {
     "cell_type": "markdown",
     "metadata": {},
     "source": [
      "An alternate method to visualizing the data is to print the correlation matrix"
     ]
    },
    {
     "cell_type": "code",
     "collapsed": false,
     "input": [
      "df.corr()"
     ],
     "language": "python",
     "metadata": {},
     "outputs": [
      {
       "html": [
        "<div style=\"max-height:1000px;max-width:1500px;overflow:auto;\">\n",
        "<table border=\"1\" class=\"dataframe\">\n",
        "  <thead>\n",
        "    <tr style=\"text-align: right;\">\n",
        "      <th></th>\n",
        "      <th>mpg</th>\n",
        "      <th>cylinders</th>\n",
        "      <th>displacement</th>\n",
        "      <th>horsepower</th>\n",
        "      <th>weight</th>\n",
        "      <th>acceleration</th>\n",
        "      <th>model year</th>\n",
        "      <th>origin</th>\n",
        "    </tr>\n",
        "  </thead>\n",
        "  <tbody>\n",
        "    <tr>\n",
        "      <th>mpg</th>\n",
        "      <td> 1.000000</td>\n",
        "      <td>-0.777618</td>\n",
        "      <td>-0.805127</td>\n",
        "      <td>-0.778427</td>\n",
        "      <td>-0.832244</td>\n",
        "      <td> 0.423329</td>\n",
        "      <td> 0.580541</td>\n",
        "      <td> 0.565209</td>\n",
        "    </tr>\n",
        "    <tr>\n",
        "      <th>cylinders</th>\n",
        "      <td>-0.777618</td>\n",
        "      <td> 1.000000</td>\n",
        "      <td> 0.950823</td>\n",
        "      <td> 0.842983</td>\n",
        "      <td> 0.897527</td>\n",
        "      <td>-0.504683</td>\n",
        "      <td>-0.345647</td>\n",
        "      <td>-0.568932</td>\n",
        "    </tr>\n",
        "    <tr>\n",
        "      <th>displacement</th>\n",
        "      <td>-0.805127</td>\n",
        "      <td> 0.950823</td>\n",
        "      <td> 1.000000</td>\n",
        "      <td> 0.897257</td>\n",
        "      <td> 0.932994</td>\n",
        "      <td>-0.543800</td>\n",
        "      <td>-0.369855</td>\n",
        "      <td>-0.614535</td>\n",
        "    </tr>\n",
        "    <tr>\n",
        "      <th>horsepower</th>\n",
        "      <td>-0.778427</td>\n",
        "      <td> 0.842983</td>\n",
        "      <td> 0.897257</td>\n",
        "      <td> 1.000000</td>\n",
        "      <td> 0.864538</td>\n",
        "      <td>-0.689196</td>\n",
        "      <td>-0.416361</td>\n",
        "      <td>-0.455171</td>\n",
        "    </tr>\n",
        "    <tr>\n",
        "      <th>weight</th>\n",
        "      <td>-0.832244</td>\n",
        "      <td> 0.897527</td>\n",
        "      <td> 0.932994</td>\n",
        "      <td> 0.864538</td>\n",
        "      <td> 1.000000</td>\n",
        "      <td>-0.416839</td>\n",
        "      <td>-0.309120</td>\n",
        "      <td>-0.585005</td>\n",
        "    </tr>\n",
        "    <tr>\n",
        "      <th>acceleration</th>\n",
        "      <td> 0.423329</td>\n",
        "      <td>-0.504683</td>\n",
        "      <td>-0.543800</td>\n",
        "      <td>-0.689196</td>\n",
        "      <td>-0.416839</td>\n",
        "      <td> 1.000000</td>\n",
        "      <td> 0.290316</td>\n",
        "      <td> 0.212746</td>\n",
        "    </tr>\n",
        "    <tr>\n",
        "      <th>model year</th>\n",
        "      <td> 0.580541</td>\n",
        "      <td>-0.345647</td>\n",
        "      <td>-0.369855</td>\n",
        "      <td>-0.416361</td>\n",
        "      <td>-0.309120</td>\n",
        "      <td> 0.290316</td>\n",
        "      <td> 1.000000</td>\n",
        "      <td> 0.181528</td>\n",
        "    </tr>\n",
        "    <tr>\n",
        "      <th>origin</th>\n",
        "      <td> 0.565209</td>\n",
        "      <td>-0.568932</td>\n",
        "      <td>-0.614535</td>\n",
        "      <td>-0.455171</td>\n",
        "      <td>-0.585005</td>\n",
        "      <td> 0.212746</td>\n",
        "      <td> 0.181528</td>\n",
        "      <td> 1.000000</td>\n",
        "    </tr>\n",
        "  </tbody>\n",
        "</table>\n",
        "</div>"
       ],
       "metadata": {},
       "output_type": "pyout",
       "prompt_number": 65,
       "text": [
        "                   mpg  cylinders  displacement  horsepower    weight  \\\n",
        "mpg           1.000000  -0.777618     -0.805127   -0.778427 -0.832244   \n",
        "cylinders    -0.777618   1.000000      0.950823    0.842983  0.897527   \n",
        "displacement -0.805127   0.950823      1.000000    0.897257  0.932994   \n",
        "horsepower   -0.778427   0.842983      0.897257    1.000000  0.864538   \n",
        "weight       -0.832244   0.897527      0.932994    0.864538  1.000000   \n",
        "acceleration  0.423329  -0.504683     -0.543800   -0.689196 -0.416839   \n",
        "model year    0.580541  -0.345647     -0.369855   -0.416361 -0.309120   \n",
        "origin        0.565209  -0.568932     -0.614535   -0.455171 -0.585005   \n",
        "\n",
        "              acceleration  model year    origin  \n",
        "mpg               0.423329    0.580541  0.565209  \n",
        "cylinders        -0.504683   -0.345647 -0.568932  \n",
        "displacement     -0.543800   -0.369855 -0.614535  \n",
        "horsepower       -0.689196   -0.416361 -0.455171  \n",
        "weight           -0.416839   -0.309120 -0.585005  \n",
        "acceleration      1.000000    0.290316  0.212746  \n",
        "model year        0.290316    1.000000  0.181528  \n",
        "origin            0.212746    0.181528  1.000000  "
       ]
      }
     ],
     "prompt_number": 65
    },
    {
     "cell_type": "heading",
     "level": 3,
     "metadata": {},
     "source": [
      "Step 4: Prepare data for analysis"
     ]
    },
    {
     "cell_type": "code",
     "collapsed": false,
     "input": [
      "# Create numpy variables X and y with the predictor and class variables\n",
      "X = df[['weight', 'model year', 'horsepower', 'origin', 'displacement']].values\n",
      "y = df['mpg'].values"
     ],
     "language": "python",
     "metadata": {},
     "outputs": [],
     "prompt_number": 66
    },
    {
     "cell_type": "code",
     "collapsed": false,
     "input": [
      "from sklearn.cross_validation import train_test_split\n",
      "from sklearn.linear_model import LinearRegression"
     ],
     "language": "python",
     "metadata": {},
     "outputs": [],
     "prompt_number": 67
    },
    {
     "cell_type": "code",
     "collapsed": false,
     "input": [
      "X_train, X_test, y_train, y_test = train_test_split(X, y, test_size=0.2)"
     ],
     "language": "python",
     "metadata": {},
     "outputs": [],
     "prompt_number": 68
    },
    {
     "cell_type": "heading",
     "level": 3,
     "metadata": {},
     "source": [
      "Step 5: Fit, predict and interpret the results"
     ]
    },
    {
     "cell_type": "code",
     "collapsed": false,
     "input": [
      "model = LinearRegression()\n",
      "model.fit(X_train, y_train)"
     ],
     "language": "python",
     "metadata": {},
     "outputs": [
      {
       "metadata": {},
       "output_type": "pyout",
       "prompt_number": 69,
       "text": [
        "LinearRegression(copy_X=True, fit_intercept=True, normalize=False)"
       ]
      }
     ],
     "prompt_number": 69
    },
    {
     "cell_type": "code",
     "collapsed": false,
     "input": [
      "predictions = model.predict(X_test)"
     ],
     "language": "python",
     "metadata": {},
     "outputs": [],
     "prompt_number": 70
    },
    {
     "cell_type": "code",
     "collapsed": false,
     "input": [
      "for i, prediction in enumerate(predictions):\n",
      "    print 'Predicted: %s, Actual: %s' % (prediction, y_test[i])"
     ],
     "language": "python",
     "metadata": {},
     "outputs": [
      {
       "output_type": "stream",
       "stream": "stdout",
       "text": [
        "Predicted: 24.1374463009, Actual: 23.0\n",
        "Predicted: 20.7218206344, Actual: 21.0\n",
        "Predicted: 21.8941489423, Actual: 21.0\n",
        "Predicted: 31.2739533219, Actual: 43.4\n",
        "Predicted: 8.73849758971, Actual: 10.0\n",
        "Predicted: 12.3567499567, Actual: 13.0\n",
        "Predicted: 20.5539888194, Actual: 18.6\n",
        "Predicted: 23.5043942628, Actual: 21.5\n",
        "Predicted: 24.2250158308, Actual: 20.8\n",
        "Predicted: 29.7560919602, Actual: 23.9\n",
        "Predicted: 23.9300320498, Actual: 19.1\n",
        "Predicted: 18.1430047987, Actual: 17.5\n",
        "Predicted: 24.1607297159, Actual: 25.0\n",
        "Predicted: 20.2761485564, Actual: 18.0\n",
        "Predicted: 35.8155410311, Actual: 38.0\n",
        "Predicted: 8.7074446523, Actual: 13.0\n",
        "Predicted: 17.8979064936, Actual: 17.5\n",
        "Predicted: 24.4450715073, Actual: 19.0\n",
        "Predicted: 17.6644426204, Actual: 18.0\n",
        "Predicted: 31.3474114534, Actual: 32.0\n",
        "Predicted: 20.4370044076, Actual: 17.7\n",
        "Predicted: 15.9413895668, Actual: 15.0\n",
        "Predicted: 21.0107531943, Actual: 22.0\n",
        "Predicted: 25.7540134863, Actual: 23.0\n",
        "Predicted: 23.9496970655, Actual: 20.2\n",
        "Predicted: 29.6572909222, Actual: 35.0\n",
        "Predicted: 26.9401894891, Actual: 28.8\n",
        "Predicted: 19.8034067713, Actual: 18.0\n",
        "Predicted: 24.5575812291, Actual: 23.0\n",
        "Predicted: 35.4302563906, Actual: 37.0\n",
        "Predicted: 20.8287149326, Actual: 21.0\n",
        "Predicted: 29.6734765718, Actual: 29.8\n",
        "Predicted: 22.015168613, Actual: 16.2\n",
        "Predicted: 26.484637129, Actual: 21.5\n",
        "Predicted: 31.8567092134, Actual: 29.5\n",
        "Predicted: 25.3383968192, Actual: 19.0\n",
        "Predicted: 25.368336478, Actual: 23.2\n",
        "Predicted: 25.9351262498, Actual: 28.0\n",
        "Predicted: 24.533323956, Actual: 23.0\n",
        "Predicted: 24.3018889873, Actual: 25.0\n",
        "Predicted: 16.9777759556, Actual: 16.0\n",
        "Predicted: 10.832224498, Actual: 13.0\n",
        "Predicted: 30.9380337002, Actual: 29.5\n",
        "Predicted: 23.5404225255, Actual: 19.4\n",
        "Predicted: 28.6884754537, Actual: 31.0\n",
        "Predicted: 27.5495074176, Actual: 28.0\n",
        "Predicted: 31.3874972604, Actual: 32.0\n",
        "Predicted: 26.2884785574, Actual: 24.0\n",
        "Predicted: 26.8559022819, Actual: 28.4\n",
        "Predicted: 31.0940066284, Actual: 32.0\n",
        "Predicted: 24.0129770055, Actual: 24.0\n",
        "Predicted: 30.9106684972, Actual: 31.3\n",
        "Predicted: 23.8318097224, Actual: 20.0\n",
        "Predicted: 11.4172815594, Actual: 14.0\n",
        "Predicted: 25.4509846351, Actual: 19.8\n",
        "Predicted: 19.9742706988, Actual: 18.0\n",
        "Predicted: 20.823209095, Actual: 20.0\n",
        "Predicted: 25.589920275, Actual: 30.0\n",
        "Predicted: 24.8602224809, Actual: 20.2\n",
        "Predicted: 23.4832212726, Actual: 23.0\n",
        "Predicted: 20.5270445691, Actual: 15.0\n",
        "Predicted: 28.6886846162, Actual: 27.0\n",
        "Predicted: 20.5578198929, Actual: 18.0\n",
        "Predicted: 26.3241951584, Actual: 28.1\n",
        "Predicted: 17.6514477796, Actual: 18.0\n",
        "Predicted: 22.5131941701, Actual: 20.0\n",
        "Predicted: 9.68360980809, Actual: 14.0\n",
        "Predicted: 26.8113390062, Actual: 29.0\n",
        "Predicted: 26.8711409002, Actual: 30.7\n",
        "Predicted: 29.5757309976, Actual: 35.0\n",
        "Predicted: 31.8732349221, Actual: 41.5\n",
        "Predicted: 26.8232988233, Actual: 28.0\n",
        "Predicted: 14.976597184, Actual: 15.0\n",
        "Predicted: 10.4056403926, Actual: 13.0\n",
        "Predicted: 29.4808727792, Actual: 29.0\n",
        "Predicted: 19.6230595321, Actual: 18.0\n",
        "Predicted: 23.2566865315, Actual: 21.0\n",
        "Predicted: 21.2311062773, Actual: 19.2\n",
        "Predicted: 24.4456286124, Actual: 26.0\n"
       ]
      }
     ],
     "prompt_number": 71
    },
    {
     "cell_type": "code",
     "collapsed": false,
     "input": [
      "model.score(X_test,y_test)"
     ],
     "language": "python",
     "metadata": {},
     "outputs": [
      {
       "metadata": {},
       "output_type": "pyout",
       "prompt_number": 72,
       "text": [
        "0.77764337315272958"
       ]
      }
     ],
     "prompt_number": 72
    },
    {
     "cell_type": "code",
     "collapsed": false,
     "input": [
      "sns.regplot(predictions, y_test)"
     ],
     "language": "python",
     "metadata": {},
     "outputs": [
      {
       "metadata": {},
       "output_type": "pyout",
       "prompt_number": 73,
       "text": [
        "<matplotlib.axes._subplots.AxesSubplot at 0x11680fd10>"
       ]
      },
      {
       "metadata": {},
       "output_type": "display_data",
       "png": "[encoded data removed]",
       "text": [
        "<matplotlib.figure.Figure at 0x108c005d0>"
       ]
      }
     ],
     "prompt_number": 73
    },
    {
     "cell_type": "code",
     "collapsed": false,
     "input": [
      "from sklearn.preprocessing import PolynomialFeatures"
     ],
     "language": "python",
     "metadata": {},
     "outputs": [],
     "prompt_number": 74
    },
    {
     "cell_type": "code",
     "collapsed": false,
     "input": [
      "quad_model =PolynomialFeatures(degree=2)"
     ],
     "language": "python",
     "metadata": {},
     "outputs": [],
     "prompt_number": 75
    },
    {
     "cell_type": "code",
     "collapsed": false,
     "input": [
      "quad_X_train = quad_model.fit_transform(X_train)\n",
      "quad_X_test = quad_model.fit_transform(X_test)"
     ],
     "language": "python",
     "metadata": {},
     "outputs": [],
     "prompt_number": 76
    },
    {
     "cell_type": "code",
     "collapsed": false,
     "input": [
      "model.fit(quad_X_train, y_train)"
     ],
     "language": "python",
     "metadata": {},
     "outputs": [
      {
       "metadata": {},
       "output_type": "pyout",
       "prompt_number": 77,
       "text": [
        "LinearRegression(copy_X=True, fit_intercept=True, normalize=False)"
       ]
      }
     ],
     "prompt_number": 77
    },
    {
     "cell_type": "code",
     "collapsed": false,
     "input": [
      "predictions = model.predict(quad_X_test)"
     ],
     "language": "python",
     "metadata": {},
     "outputs": [],
     "prompt_number": 78
    },
    {
     "cell_type": "code",
     "collapsed": false,
     "input": [
      "for i, prediction in enumerate(predictions):\n",
      "    print 'Predicted: %s, Actual: %s' % (prediction, y_test[i])"
     ],
     "language": "python",
     "metadata": {},
     "outputs": [
      {
       "output_type": "stream",
       "stream": "stdout",
       "text": [
        "Predicted: 23.3025864121, Actual: 23.0\n",
        "Predicted: 19.9410146537, Actual: 21.0\n",
        "Predicted: 19.4236241937, Actual: 21.0\n",
        "Predicted: 35.4731652612, Actual: 43.4\n",
        "Predicted: 12.1003117586, Actual: 10.0\n",
        "Predicted: 13.3266849819, Actual: 13.0\n",
        "Predicted: 18.369698152, Actual: 18.6\n",
        "Predicted: 21.0278008026, Actual: 21.5\n",
        "Predicted: 23.181315018, Actual: 20.8\n",
        "Predicted: 27.0425561005, Actual: 23.9\n",
        "Predicted: 23.7648774373, Actual: 19.1\n",
        "Predicted: 15.7164721958, Actual: 17.5\n",
        "Predicted: 23.6872919766, Actual: 25.0\n",
        "Predicted: 19.9817607207, Actual: 18.0\n",
        "Predicted: 38.5456159447, Actual: 38.0\n",
        "Predicted: 13.504280478, Actual: 13.0\n",
        "Predicted: 16.3986029163, Actual: 17.5\n",
        "Predicted: 24.8423074503, Actual: 19.0\n",
        "Predicted: 16.6782040171, Actual: 18.0\n",
        "Predicted: 32.7968375922, Actual: 32.0\n",
        "Predicted: 14.9025660389, Actual: 17.7\n",
        "Predicted: 15.3464262096, Actual: 15.0\n",
        "Predicted: 18.9638111493, Actual: 22.0\n",
        "Predicted: 26.9743738532, Actual: 23.0\n",
        "Predicted: 23.2312119071, Actual: 20.2\n",
        "Predicted: 29.4165488717, Actual: 35.0\n",
        "Predicted: 24.6202932979, Actual: 28.8\n",
        "Predicted: 19.5000915272, Actual: 18.0\n",
        "Predicted: 23.090561581, Actual: 23.0\n",
        "Predicted: 38.0664049108, Actual: 37.0\n",
        "Predicted: 20.9651746814, Actual: 21.0\n",
        "Predicted: 29.5417968194, Actual: 29.8\n",
        "Predicted: 17.0144256287, Actual: 16.2\n",
        "Predicted: 20.8326170148, Actual: 21.5\n",
        "Predicted: 32.1670449438, Actual: 29.5\n",
        "Predicted: 23.0082059997, Actual: 19.0\n",
        "Predicted: 23.2513931027, Actual: 23.2\n",
        "Predicted: 24.1017375894, Actual: 28.0\n",
        "Predicted: 23.8755314491, Actual: 23.0\n",
        "Predicted: 21.5433611521, Actual: 25.0\n",
        "Predicted: 16.0666414964, Actual: 16.0\n",
        "Predicted: 13.0808748237, Actual: 13.0\n",
        "Predicted: 31.2958897725, Actual: 29.5\n",
        "Predicted: 22.3450668295, Actual: 19.4\n",
        "Predicted: 28.1136406981, Actual: 31.0\n",
        "Predicted: 26.8495836, Actual: 28.0\n",
        "Predicted: 31.5882815681, Actual: 32.0\n",
        "Predicted: 23.8615361052, Actual: 24.0\n",
        "Predicted: 25.8740604078, Actual: 28.4\n",
        "Predicted: 30.214390327, Actual: 32.0\n",
        "Predicted: 23.1906818455, Actual: 24.0\n",
        "Predicted: 32.449544013, Actual: 31.3\n",
        "Predicted: 23.2856693712, Actual: 20.0\n",
        "Predicted: 12.0127567535, Actual: 14.0\n",
        "Predicted: 24.7192335988, Actual: 19.8\n",
        "Predicted: 18.2473381975, Actual: 18.0\n",
        "Predicted: 19.2284388676, Actual: 20.0\n",
        "Predicted: 26.992739702, Actual: 30.0\n",
        "Predicted: 23.7443765288, Actual: 20.2\n",
        "Predicted: 24.9418790366, Actual: 23.0\n",
        "Predicted: 19.7488154845, Actual: 15.0\n",
        "Predicted: 28.7659298749, Actual: 27.0\n",
        "Predicted: 19.4636716738, Actual: 18.0\n",
        "Predicted: 28.0162056597, Actual: 28.1\n",
        "Predicted: 16.9002717618, Actual: 18.0\n",
        "Predicted: 20.2513640854, Actual: 20.0\n",
        "Predicted: 14.5779224126, Actual: 14.0\n",
        "Predicted: 26.5113041664, Actual: 29.0\n",
        "Predicted: 29.3333899853, Actual: 30.7\n",
        "Predicted: 28.4753991337, Actual: 35.0\n",
        "Predicted: 32.9672553815, Actual: 41.5\n",
        "Predicted: 25.9449460258, Actual: 28.0\n",
        "Predicted: 14.2340168329, Actual: 15.0\n",
        "Predicted: 12.4077841734, Actual: 13.0\n",
        "Predicted: 29.9203154541, Actual: 29.0\n",
        "Predicted: 17.5081234779, Actual: 18.0\n",
        "Predicted: 22.8148987001, Actual: 21.0\n",
        "Predicted: 19.4805423487, Actual: 19.2\n",
        "Predicted: 24.3435280626, Actual: 26.0\n"
       ]
      }
     ],
     "prompt_number": 79
    },
    {
     "cell_type": "code",
     "collapsed": false,
     "input": [
      "model.score(quad_X_test,y_test)"
     ],
     "language": "python",
     "metadata": {},
     "outputs": [
      {
       "metadata": {},
       "output_type": "pyout",
       "prompt_number": 80,
       "text": [
        "0.85141966237441713"
       ]
      }
     ],
     "prompt_number": 80
    },
    {
     "cell_type": "code",
     "collapsed": false,
     "input": [
      "sns.regplot(predictions, y_test)"
     ],
     "language": "python",
     "metadata": {},
     "outputs": [
      {
       "metadata": {},
       "output_type": "pyout",
       "prompt_number": 81,
       "text": [
        "<matplotlib.axes._subplots.AxesSubplot at 0x11686bc90>"
       ]
      },
      {
       "metadata": {},
       "output_type": "display_data",
       "png": "[encoded data removed]",
       "text": [
        "<matplotlib.figure.Figure at 0x11647cc50>"
       ]
      }
     ],
     "prompt_number": 81
    },
    {
     "cell_type": "code",
     "collapsed": false,
     "input": [
      "from sklearn.cross_validation import cross_val_score"
     ],
     "language": "python",
     "metadata": {},
     "outputs": [],
     "prompt_number": 82
    },
    {
     "cell_type": "code",
     "collapsed": false,
     "input": [
      "scores = cross_val_score(model, quad_X_train, y_train, cv =10)"
     ],
     "language": "python",
     "metadata": {},
     "outputs": [],
     "prompt_number": 83
    },
    {
     "cell_type": "code",
     "collapsed": false,
     "input": [
      "# R squared is the proportion of variance in the response variable that is explained by the model.\n",
      "# The R squared score tells us the accuracy of our model with 1.0 being a perfect prediction. \n",
      "scores"
     ],
     "language": "python",
     "metadata": {},
     "outputs": [
      {
       "metadata": {},
       "output_type": "pyout",
       "prompt_number": 84,
       "text": [
        "array([ 0.86963228,  0.88186708,  0.83549739,  0.82170629,  0.8882992 ,\n",
        "        0.87384832,  0.83684078,  0.8580886 ,  0.84189087,  0.87059883])"
       ]
      }
     ],
     "prompt_number": 84
    },
    {
     "cell_type": "heading",
     "level": 3,
     "metadata": {},
     "source": [
      "Using attributes of a car to predict MPG is not an exact science. What I mean is that car manufacturers make cars based on their marketing plans. Although some cars are marketed as being fuel efficient, some could be marketed for comfort, some might be manufactured to appeal to a certain demographic(women, young adults, corporate types) and some others even for speed. Given these assumptions, our model does a fairly good job."
     ]
    }
   ],
   "metadata": {}
  }
 ]
}